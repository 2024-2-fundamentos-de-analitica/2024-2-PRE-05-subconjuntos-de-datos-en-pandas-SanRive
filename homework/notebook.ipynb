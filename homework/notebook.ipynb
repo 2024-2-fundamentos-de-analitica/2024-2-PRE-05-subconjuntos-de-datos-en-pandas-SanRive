{
 "cells": [
  {
   "cell_type": "code",
   "execution_count": 41,
   "metadata": {},
   "outputs": [],
   "source": [
    "import pandas as pd\n",
    "import os\n",
    "\n",
    "pd.set_option(\"display.notebook_repr_html\", False) #repr modifies the output format, in this case, html is negated and it's printed as text"
   ]
  },
  {
   "cell_type": "code",
   "execution_count": 42,
   "metadata": {},
   "outputs": [
    {
     "data": {
      "text/plain": [
       "   driverId  truckId eventTime eventType  longitude  latitude  \\\n",
       "0        14       25   59:21.4    Normal     -94.58     37.03   \n",
       "1        18       16   59:21.7    Normal     -89.66     39.78   \n",
       "2        27      105   59:21.7    Normal     -90.21     38.65   \n",
       "3        11       74   59:21.7    Normal     -90.20     38.65   \n",
       "4        22       87   59:21.7    Normal     -90.04     35.19   \n",
       "\n",
       "                     eventKey  CorrelationId       driverName     routeId  \\\n",
       "0   14|25|9223370572464814373   3.660000e+18       Adis Cesir   160405074   \n",
       "1   18|16|9223370572464814089   3.660000e+18        Grant Liu  1565885487   \n",
       "2  27|105|9223370572464814070   3.660000e+18  Mark Lochbihler  1325562373   \n",
       "3   11|74|9223370572464814123   3.660000e+18   Jamie Engesser  1567254452   \n",
       "4   22|87|9223370572464814101   3.660000e+18    Nadeem Asghar  1198242881   \n",
       "\n",
       "                                routeName      eventDate  \n",
       "0           Joplin to Kansas City Route 2  2016-05-27-22  \n",
       "1           Springfield to KC Via Hanibal  2016-05-27-22  \n",
       "2  Springfield to KC Via Columbia Route 2  2016-05-27-22  \n",
       "3           Saint Louis to Memphis Route2  2016-05-27-22  \n",
       "4           Saint Louis to Chicago Route2  2016-05-27-22  "
      ]
     },
     "execution_count": 42,
     "metadata": {},
     "output_type": "execute_result"
    }
   ],
   "source": [
    "truck_events = pd.read_csv(\"C:\\\\Users\\\\Crimson\\\\Desktop\\\\College\\\\FDA\\\\2024-2-PRE-05-subconjuntos-de-datos-en-pandas-SanRive\\\\files\\\\input\\\\truck_event_text_partition.csv\")\n",
    "\n",
    "truck_events.head()"
   ]
  },
  {
   "cell_type": "code",
   "execution_count": 43,
   "metadata": {},
   "outputs": [
    {
     "data": {
      "text/plain": [
       "(17075, 12)"
      ]
     },
     "execution_count": 43,
     "metadata": {},
     "output_type": "execute_result"
    }
   ],
   "source": [
    "truck_events.shape"
   ]
  },
  {
   "cell_type": "code",
   "execution_count": 44,
   "metadata": {},
   "outputs": [
    {
     "data": {
      "text/plain": [
       "   driverId  truckId eventTime eventType  longitude  latitude  \\\n",
       "0        14       25   59:21.4    Normal     -94.58     37.03   \n",
       "1        18       16   59:21.7    Normal     -89.66     39.78   \n",
       "2        27      105   59:21.7    Normal     -90.21     38.65   \n",
       "3        11       74   59:21.7    Normal     -90.20     38.65   \n",
       "4        22       87   59:21.7    Normal     -90.04     35.19   \n",
       "5        22       87   59:22.3    Normal     -90.37     35.21   \n",
       "6        23       68   59:22.4    Normal     -89.91     40.86   \n",
       "7        11       74   59:22.5    Normal     -89.74     39.10   \n",
       "8        20       41   59:22.5    Normal     -93.36     41.69   \n",
       "9        32       42   59:22.5    Normal     -90.37     35.21   \n",
       "\n",
       "                     eventKey  CorrelationId       driverName     routeId  \\\n",
       "0   14|25|9223370572464814373   3.660000e+18       Adis Cesir   160405074   \n",
       "1   18|16|9223370572464814089   3.660000e+18        Grant Liu  1565885487   \n",
       "2  27|105|9223370572464814070   3.660000e+18  Mark Lochbihler  1325562373   \n",
       "3   11|74|9223370572464814123   3.660000e+18   Jamie Engesser  1567254452   \n",
       "4   22|87|9223370572464814101   3.660000e+18    Nadeem Asghar  1198242881   \n",
       "5   22|87|9223370572464813486   3.660000e+18    Nadeem Asghar  1198242881   \n",
       "6   23|68|9223370572464813450   3.660000e+18        Adam Diaz   160405074   \n",
       "7   11|74|9223370572464813355   3.660000e+18   Jamie Engesser  1567254452   \n",
       "8   20|41|9223370572464813344   3.660000e+18     Chris Harris   160779139   \n",
       "9   32|42|9223370572464813296   3.660000e+18   Ryan Templeton  1090292248   \n",
       "\n",
       "                                routeName      eventDate  \n",
       "0           Joplin to Kansas City Route 2  2016-05-27-22  \n",
       "1           Springfield to KC Via Hanibal  2016-05-27-22  \n",
       "2  Springfield to KC Via Columbia Route 2  2016-05-27-22  \n",
       "3           Saint Louis to Memphis Route2  2016-05-27-22  \n",
       "4           Saint Louis to Chicago Route2  2016-05-27-22  \n",
       "5           Saint Louis to Chicago Route2  2016-05-27-22  \n",
       "6           Joplin to Kansas City Route 2  2016-05-27-22  \n",
       "7           Saint Louis to Memphis Route2  2016-05-27-22  \n",
       "8           Des Moines to Chicago Route 2  2016-05-27-22  \n",
       "9          Peoria to Ceder Rapids Route 2  2016-05-27-22  "
      ]
     },
     "execution_count": 44,
     "metadata": {},
     "output_type": "execute_result"
    }
   ],
   "source": [
    "truck_events_subsets = truck_events[0:10]\n",
    "truck_events_subsets"
   ]
  },
  {
   "cell_type": "code",
   "execution_count": 45,
   "metadata": {},
   "outputs": [
    {
     "data": {
      "text/plain": [
       "   driverId eventTime eventType\n",
       "0        14   59:21.4    Normal\n",
       "1        18   59:21.7    Normal\n",
       "2        27   59:21.7    Normal\n",
       "3        11   59:21.7    Normal\n",
       "4        22   59:21.7    Normal\n",
       "5        22   59:22.3    Normal\n",
       "6        23   59:22.4    Normal\n",
       "7        11   59:22.5    Normal\n",
       "8        20   59:22.5    Normal\n",
       "9        32   59:22.5    Normal"
      ]
     },
     "execution_count": 45,
     "metadata": {},
     "output_type": "execute_result"
    }
   ],
   "source": [
    "specific_columns = truck_events_subsets[[\"driverId\",\"eventTime\", \"eventType\"]]\n",
    "specific_columns"
   ]
  },
  {
   "cell_type": "code",
   "execution_count": 46,
   "metadata": {},
   "outputs": [
    {
     "data": {
      "text/plain": [
       "    driverId eventTime eventType\n",
       "0         14   59:21.4    Normal\n",
       "1         18   59:21.7    Normal\n",
       "2         27   59:21.7    Normal\n",
       "3         11   59:21.7    Normal\n",
       "4         22   59:21.7    Normal\n",
       "5         22   59:22.3    Normal\n",
       "6         23   59:22.4    Normal\n",
       "7         11   59:22.5    Normal\n",
       "8         20   59:22.5    Normal\n",
       "9         32   59:22.5    Normal\n",
       "10        27   59:22.6    Normal\n",
       "11        17   59:23.2    Normal\n",
       "12        14   59:23.3    Normal\n",
       "13        28   59:23.3    Normal\n",
       "14        15   59:23.4    Normal\n",
       "15        16   59:23.4    Normal\n",
       "16        31   59:23.5    Normal\n",
       "17        25   59:23.5    Normal\n",
       "18        14   59:24.2    Normal\n",
       "19        22   59:24.2    Normal\n",
       "20        32   59:24.2    Normal"
      ]
     },
     "execution_count": 46,
     "metadata": {},
     "output_type": "execute_result"
    }
   ],
   "source": [
    "#print just makes everything one single output\n",
    "#display separates the outputs\n",
    "specific_columns_with_ranges = truck_events.loc[0:20,[\"driverId\",\"eventTime\", \"eventType\"]]\n",
    "specific_columns_with_ranges"
   ]
  },
  {
   "cell_type": "code",
   "execution_count": 47,
   "metadata": {},
   "outputs": [
    {
     "data": {
      "text/plain": [
       "driverId                                    18\n",
       "truckId                                     16\n",
       "eventTime                              59:21.7\n",
       "eventType                               Normal\n",
       "longitude                               -89.66\n",
       "latitude                                 39.78\n",
       "eventKey             18|16|9223370572464814089\n",
       "CorrelationId            3660000000000000000.0\n",
       "driverName                           Grant Liu\n",
       "routeId                             1565885487\n",
       "routeName        Springfield to KC Via Hanibal\n",
       "eventDate                        2016-05-27-22\n",
       "Name: 1, dtype: object"
      ]
     },
     "metadata": {},
     "output_type": "display_data"
    },
    {
     "data": {
      "text/plain": [
       "'18|16|9223370572464814089'"
      ]
     },
     "metadata": {},
     "output_type": "display_data"
    },
    {
     "data": {
      "text/plain": [
       "'18|16|9223370572464814089'"
      ]
     },
     "metadata": {},
     "output_type": "display_data"
    }
   ],
   "source": [
    "specific_rows_via_index = truck_events.iloc[1]\n",
    "display(specific_rows_via_index)\n",
    "\n",
    "#You can also specify the row via index along with a column via name\n",
    "specific_rows_via_index_with_column = truck_events.iloc[1].eventKey\n",
    "#or\n",
    "specific_rows_via_index_with_column2 = truck_events.iloc[1][\"eventKey\"]\n",
    "\n",
    "display(specific_rows_via_index_with_column)\n",
    "display(specific_rows_via_index_with_column2)"
   ]
  },
  {
   "cell_type": "code",
   "execution_count": 48,
   "metadata": {},
   "outputs": [],
   "source": [
    "# Write data to disk\n",
    "if not os.path.exists(\"C:\\\\Users\\\\Crimson\\\\Desktop\\\\College\\\\FDA\\\\2024-2-PRE-05-subconjuntos-de-datos-en-pandas-SanRive\\\\files\\\\output\"):\n",
    "    os.makedirs(\"C:\\\\Users\\\\Crimson\\\\Desktop\\\\College\\\\FDA\\\\2024-2-PRE-05-subconjuntos-de-datos-en-pandas-SanRive\\\\files\\\\output\")\n",
    "\n",
    "specific_columns.to_csv(\"C:\\\\Users\\\\Crimson\\\\Desktop\\\\College\\\\FDA\\\\2024-2-PRE-05-subconjuntos-de-datos-en-pandas-SanRive\\\\files\\\\output\\\\specific-columns.csv\",\n",
    "                        sep=\",\", header=True, index=False)"
   ]
  },
  {
   "cell_type": "code",
   "execution_count": null,
   "metadata": {},
   "outputs": [],
   "source": []
  }
 ],
 "metadata": {
  "kernelspec": {
   "display_name": ".venv",
   "language": "python",
   "name": "python3"
  },
  "language_info": {
   "codemirror_mode": {
    "name": "ipython",
    "version": 3
   },
   "file_extension": ".py",
   "mimetype": "text/x-python",
   "name": "python",
   "nbconvert_exporter": "python",
   "pygments_lexer": "ipython3",
   "version": "3.12.6"
  },
  "orig_nbformat": 4
 },
 "nbformat": 4,
 "nbformat_minor": 2
}
